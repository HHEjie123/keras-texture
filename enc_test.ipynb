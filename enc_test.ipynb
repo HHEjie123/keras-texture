{
 "cells": [
  {
   "cell_type": "code",
   "execution_count": 14,
   "metadata": {},
   "outputs": [],
   "source": [
    "import tensorflow as tf\n",
    "from keras import backend as K\n",
    "from keras.engine.topology import Layer\n",
    "\n",
    "from keras import layers, models\n",
    "\n",
    "import numpy as np"
   ]
  },
  {
   "cell_type": "code",
   "execution_count": null,
   "metadata": {},
   "outputs": [],
   "source": [
    "def aggregate(W, R):\n",
    "    ''' Where R_ij = X_i - C_j\n",
    "    \n",
    "    Compute: E_k = Sum_i (W_ik*(X_i - C_k))\n",
    "    '''\n",
    "    pass\n",
    "\n",
    "def scaledL2(R, S): \n",
    "    ''' Where R_ij = X_i - C_j:\n",
    "    \n",
    "    Compute: W_ik = S_k * ||X_i - C_k||^2\n",
    "    '''\n",
    "    pass"
   ]
  },
  {
   "cell_type": "code",
   "execution_count": 87,
   "metadata": {},
   "outputs": [],
   "source": [
    "class Encoding(Layer):\n",
    "    '''Dictionary encoding layer with learnable codebook and residual weights.\n",
    "\n",
    "    Encodes an collection of N features of size D into a KxD representation.\n",
    "    \n",
    "    If input.shape = (N, D) and num_codes = K, then\n",
    "        codebook.shape = (K, D)\n",
    "        residual.shape = (N, K, D)\n",
    "        weights.shape  = (N, K)\n",
    "        output.shape   = (K, D)\n",
    "\n",
    "    Input of shape (batch, H, W, D) from e.g., a conv layer, should be \n",
    "    squeezed to (batch, H*W, D) before using as Encoding input tensor.\n",
    "\n",
    "    TODO: - allow for ndim(x) == 4\n",
    "          - support for dropout?\n",
    "    \n",
    "    # Arguments:\n",
    "        D : size of the features in X (& codewords)\n",
    "        K : number of codewords in the codebook\n",
    "    '''\n",
    "    def __init__(self, D, K, **kwargs):\n",
    "        super(Encoding, self).__init__(**kwargs)\n",
    "        self.D, self.K = D, K\n",
    "\n",
    "    def build(self, input_shape):\n",
    "        # TODO: opt to init codebook manually? Or with GMM?\n",
    "\n",
    "        self.codes = self.add_weight(name='codebook',\n",
    "                                    shape=(self.K, self.D,),\n",
    "                                    initializer='orthogonal', # should use uniform +/-std1?\n",
    "                                    trainable=True)\n",
    "\n",
    "        self.scale = self.add_weight(name='scale_factors',\n",
    "                                    shape=(self.K,),\n",
    "                                    initializer='uniform',\n",
    "                                    trainable=True)\n",
    "\n",
    "        super(Encoding, self).build(input_shape)\n",
    "\n",
    "    def call(self, x): \n",
    "        ''' \n",
    "        Pseudo-code\n",
    "        -----------\n",
    "        Weights   : w_ij = exp(-S_j*||r_ij||^2) / Sum_k(exp(-S_k*||r_ik||^2))\n",
    "        Aggregate : E_j  = Sum_i(w_ij * r_ij)\n",
    "        '''\n",
    "        #x_shape = K.shape(x).eval(session=K.get_session())\n",
    "        if K.ndim(x) != 3:\n",
    "            raise ValueError('`x` should have shape BxNxD')\n",
    "        \n",
    "        N = x.shape[1]\n",
    "        \n",
    "        # Compute residual vectors\n",
    "        x_repd  = K.repeat_elements(x, self.K, 1)  #(?, N*K, D)\n",
    "        c_tile = K.tile(self.codes, (N, 1)) #(N*K, D)\n",
    "        R = K.reshape(x_rep - c_tile, (N, self.K, self.D))\n",
    "        \n",
    "        W = scaledL2(R, self.scale)\n",
    "        E = aggregate(W, R)\n",
    "        \n",
    "        \n",
    "        return self.codes\n",
    "    \n",
    "        # code-wise dot product\n",
    "\n",
    "        #W = K.softmax(scaledL2(X, self.codewords, self.scale))\n",
    "\n",
    "        #E = aggregate(W, X, self.codewords)\n",
    "        \n",
    "        #E = tf.einsum('ij,ij->j', W, R)\n",
    "\n",
    "        #return E\n",
    "\n",
    "    def compute_output_shape(self, input_shape):\n",
    "        return (self.K, self.D)\n"
   ]
  },
  {
   "cell_type": "code",
   "execution_count": 89,
   "metadata": {},
   "outputs": [
    {
     "name": "stdout",
     "output_type": "stream",
     "text": [
      "(5, 3, 32)\n"
     ]
    },
    {
     "data": {
      "text/plain": [
       "<tf.Variable 'encoding_20/codebook:0' shape=(3, 32) dtype=float32_ref>"
      ]
     },
     "execution_count": 89,
     "metadata": {},
     "output_type": "execute_result"
    }
   ],
   "source": [
    "inp = layers.Input(shape=(5,32,))\n",
    "enc = Encoding(32, 3)\n",
    "enc(inp)"
   ]
  },
  {
   "cell_type": "code",
   "execution_count": 83,
   "metadata": {},
   "outputs": [
    {
     "data": {
      "text/plain": [
       "Dimension(5)"
      ]
     },
     "execution_count": 83,
     "metadata": {},
     "output_type": "execute_result"
    }
   ],
   "source": [
    "inp.shape[1]"
   ]
  },
  {
   "cell_type": "code",
   "execution_count": 41,
   "metadata": {},
   "outputs": [],
   "source": [
    "N = 3\n",
    "k = 2\n",
    "D = 5\n",
    "\n",
    "x = np.random.randint(0, 10, size=(N,D))\n",
    "c = np.random.randint(0, 10, size=(k,D))"
   ]
  },
  {
   "cell_type": "code",
   "execution_count": 42,
   "metadata": {},
   "outputs": [],
   "source": [
    "X = K.variable(x, dtype='float32')\n",
    "C = K.variable(c, dtype='float32')"
   ]
  },
  {
   "cell_type": "code",
   "execution_count": 45,
   "metadata": {},
   "outputs": [
    {
     "name": "stdout",
     "output_type": "stream",
     "text": [
      "[[8. 1. 6. 8. 3.]\n",
      " [9. 1. 4. 8. 5.]\n",
      " [0. 5. 9. 6. 9.]]\n",
      "\n",
      "[[3. 8. 9. 9. 1.]\n",
      " [2. 3. 5. 5. 7.]]\n"
     ]
    }
   ],
   "source": [
    "print(K.eval(X), end='\\n\\n')\n",
    "print(K.eval(C))"
   ]
  },
  {
   "cell_type": "code",
   "execution_count": 49,
   "metadata": {},
   "outputs": [
    {
     "name": "stdout",
     "output_type": "stream",
     "text": [
      "(6, 5) (6, 5)\n",
      "[[8. 1. 6. 8. 3.]\n",
      " [8. 1. 6. 8. 3.]\n",
      " [9. 1. 4. 8. 5.]\n",
      " [9. 1. 4. 8. 5.]\n",
      " [0. 5. 9. 6. 9.]\n",
      " [0. 5. 9. 6. 9.]]\n",
      "\n",
      "[[3. 8. 9. 9. 1.]\n",
      " [2. 3. 5. 5. 7.]\n",
      " [3. 8. 9. 9. 1.]\n",
      " [2. 3. 5. 5. 7.]\n",
      " [3. 8. 9. 9. 1.]\n",
      " [2. 3. 5. 5. 7.]]\n"
     ]
    }
   ],
   "source": [
    "X_expand = K.repeat_elements(X, k, 0)\n",
    "C_expand = K.tile(C, (N,1))\n",
    "\n",
    "\n",
    "print(X_expand.shape, C_expand.shape)\n",
    "print(K.eval(X_expand), end='\\n\\n')\n",
    "print(K.eval(C_expand))"
   ]
  },
  {
   "cell_type": "code",
   "execution_count": 50,
   "metadata": {},
   "outputs": [
    {
     "data": {
      "text/plain": [
       "array([[ 5., -7., -3., -1.,  2.],\n",
       "       [ 6., -2.,  1.,  3., -4.],\n",
       "       [ 6., -7., -5., -1.,  4.],\n",
       "       [ 7., -2., -1.,  3., -2.],\n",
       "       [-3., -3.,  0., -3.,  8.],\n",
       "       [-2.,  2.,  4.,  1.,  2.]], dtype=float32)"
      ]
     },
     "execution_count": 50,
     "metadata": {},
     "output_type": "execute_result"
    }
   ],
   "source": [
    "R = X_expand - C_expand\n",
    "K.eval(R)"
   ]
  },
  {
   "cell_type": "code",
   "execution_count": 51,
   "metadata": {},
   "outputs": [],
   "source": [
    "R = K.reshape(R, (N, k, D))\n",
    "R = K.eval(R)"
   ]
  },
  {
   "cell_type": "code",
   "execution_count": 52,
   "metadata": {},
   "outputs": [
    {
     "data": {
      "text/plain": [
       "array([[[ 5., -7., -3., -1.,  2.],\n",
       "        [ 6., -2.,  1.,  3., -4.]],\n",
       "\n",
       "       [[ 6., -7., -5., -1.,  4.],\n",
       "        [ 7., -2., -1.,  3., -2.]],\n",
       "\n",
       "       [[-3., -3.,  0., -3.,  8.],\n",
       "        [-2.,  2.,  4.,  1.,  2.]]], dtype=float32)"
      ]
     },
     "execution_count": 52,
     "metadata": {},
     "output_type": "execute_result"
    }
   ],
   "source": [
    "R"
   ]
  },
  {
   "cell_type": "code",
   "execution_count": 55,
   "metadata": {},
   "outputs": [
    {
     "data": {
      "text/plain": [
       "array([[ 6., -7., -5., -1.,  4.],\n",
       "       [ 7., -2., -1.,  3., -2.]], dtype=float32)"
      ]
     },
     "execution_count": 55,
     "metadata": {},
     "output_type": "execute_result"
    }
   ],
   "source": [
    "R[1,:,:]"
   ]
  },
  {
   "cell_type": "code",
   "execution_count": null,
   "metadata": {},
   "outputs": [],
   "source": []
  },
  {
   "cell_type": "code",
   "execution_count": 39,
   "metadata": {},
   "outputs": [
    {
     "ename": "ValueError",
     "evalue": "operands could not be broadcast together with shape (352,) (3,)",
     "output_type": "error",
     "traceback": [
      "\u001b[0;31m---------------------------------------------------------------------------\u001b[0m",
      "\u001b[0;31mValueError\u001b[0m                                Traceback (most recent call last)",
      "\u001b[0;32m<ipython-input-39-4ad3e634c69a>\u001b[0m in \u001b[0;36m<module>\u001b[0;34m()\u001b[0m\n\u001b[0;32m----> 1\u001b[0;31m \u001b[0mnp\u001b[0m\u001b[0;34m.\u001b[0m\u001b[0mrepeat\u001b[0m\u001b[0;34m(\u001b[0m\u001b[0mnp\u001b[0m\u001b[0;34m.\u001b[0m\u001b[0mexpand_dims\u001b[0m\u001b[0;34m(\u001b[0m\u001b[0mX\u001b[0m\u001b[0;34m,\u001b[0m \u001b[0maxis\u001b[0m\u001b[0;34m=\u001b[0m\u001b[0;34m-\u001b[0m\u001b[0;36m1\u001b[0m\u001b[0;34m)\u001b[0m\u001b[0;34m,\u001b[0m \u001b[0;34m(\u001b[0m\u001b[0;36m1\u001b[0m\u001b[0;34m,\u001b[0m\u001b[0;36m1\u001b[0m\u001b[0;34m,\u001b[0m\u001b[0mK\u001b[0m\u001b[0;34m)\u001b[0m\u001b[0;34m)\u001b[0m\u001b[0;34m.\u001b[0m\u001b[0mshape\u001b[0m\u001b[0;34m\u001b[0m\u001b[0m\n\u001b[0m",
      "\u001b[0;32m~/anaconda3/envs/core-dev/lib/python3.6/site-packages/numpy/core/fromnumeric.py\u001b[0m in \u001b[0;36mrepeat\u001b[0;34m(a, repeats, axis)\u001b[0m\n\u001b[1;32m    421\u001b[0m \u001b[0;34m\u001b[0m\u001b[0m\n\u001b[1;32m    422\u001b[0m     \"\"\"\n\u001b[0;32m--> 423\u001b[0;31m     \u001b[0;32mreturn\u001b[0m \u001b[0m_wrapfunc\u001b[0m\u001b[0;34m(\u001b[0m\u001b[0ma\u001b[0m\u001b[0;34m,\u001b[0m \u001b[0;34m'repeat'\u001b[0m\u001b[0;34m,\u001b[0m \u001b[0mrepeats\u001b[0m\u001b[0;34m,\u001b[0m \u001b[0maxis\u001b[0m\u001b[0;34m=\u001b[0m\u001b[0maxis\u001b[0m\u001b[0;34m)\u001b[0m\u001b[0;34m\u001b[0m\u001b[0m\n\u001b[0m\u001b[1;32m    424\u001b[0m \u001b[0;34m\u001b[0m\u001b[0m\n\u001b[1;32m    425\u001b[0m \u001b[0;34m\u001b[0m\u001b[0m\n",
      "\u001b[0;32m~/anaconda3/envs/core-dev/lib/python3.6/site-packages/numpy/core/fromnumeric.py\u001b[0m in \u001b[0;36m_wrapfunc\u001b[0;34m(obj, method, *args, **kwds)\u001b[0m\n\u001b[1;32m     50\u001b[0m \u001b[0;32mdef\u001b[0m \u001b[0m_wrapfunc\u001b[0m\u001b[0;34m(\u001b[0m\u001b[0mobj\u001b[0m\u001b[0;34m,\u001b[0m \u001b[0mmethod\u001b[0m\u001b[0;34m,\u001b[0m \u001b[0;34m*\u001b[0m\u001b[0margs\u001b[0m\u001b[0;34m,\u001b[0m \u001b[0;34m**\u001b[0m\u001b[0mkwds\u001b[0m\u001b[0;34m)\u001b[0m\u001b[0;34m:\u001b[0m\u001b[0;34m\u001b[0m\u001b[0m\n\u001b[1;32m     51\u001b[0m     \u001b[0;32mtry\u001b[0m\u001b[0;34m:\u001b[0m\u001b[0;34m\u001b[0m\u001b[0m\n\u001b[0;32m---> 52\u001b[0;31m         \u001b[0;32mreturn\u001b[0m \u001b[0mgetattr\u001b[0m\u001b[0;34m(\u001b[0m\u001b[0mobj\u001b[0m\u001b[0;34m,\u001b[0m \u001b[0mmethod\u001b[0m\u001b[0;34m)\u001b[0m\u001b[0;34m(\u001b[0m\u001b[0;34m*\u001b[0m\u001b[0margs\u001b[0m\u001b[0;34m,\u001b[0m \u001b[0;34m**\u001b[0m\u001b[0mkwds\u001b[0m\u001b[0;34m)\u001b[0m\u001b[0;34m\u001b[0m\u001b[0m\n\u001b[0m\u001b[1;32m     53\u001b[0m \u001b[0;34m\u001b[0m\u001b[0m\n\u001b[1;32m     54\u001b[0m     \u001b[0;31m# An AttributeError occurs if the object does not have\u001b[0m\u001b[0;34m\u001b[0m\u001b[0;34m\u001b[0m\u001b[0m\n",
      "\u001b[0;31mValueError\u001b[0m: operands could not be broadcast together with shape (352,) (3,)"
     ]
    }
   ],
   "source": [
    "np.repeat(np.expand_dims(X, axis=-1), (1,1,K)).shape"
   ]
  },
  {
   "cell_type": "code",
   "execution_count": 40,
   "metadata": {},
   "outputs": [
    {
     "data": {
      "text/plain": [
       "(11, 32, 1)"
      ]
     },
     "execution_count": 40,
     "metadata": {},
     "output_type": "execute_result"
    }
   ],
   "source": [
    "x = layers.Input(shape=(121,32,))"
   ]
  },
  {
   "cell_type": "code",
   "execution_count": null,
   "metadata": {},
   "outputs": [],
   "source": []
  }
 ],
 "metadata": {
  "kernelspec": {
   "display_name": "Python 3",
   "language": "python",
   "name": "python3"
  },
  "language_info": {
   "codemirror_mode": {
    "name": "ipython",
    "version": 3
   },
   "file_extension": ".py",
   "mimetype": "text/x-python",
   "name": "python",
   "nbconvert_exporter": "python",
   "pygments_lexer": "ipython3",
   "version": "3.6.5"
  }
 },
 "nbformat": 4,
 "nbformat_minor": 2
}
