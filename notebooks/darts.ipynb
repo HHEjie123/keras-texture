{
 "cells": [
  {
   "cell_type": "code",
   "execution_count": 1,
   "metadata": {},
   "outputs": [
    {
     "name": "stderr",
     "output_type": "stream",
     "text": [
      "Using TensorFlow backend.\n"
     ]
    }
   ],
   "source": [
    "import tensorflow as tf\n",
    "\n",
    "from texture.layers import DARTSEdge\n",
    "from tensorflow.keras.models import Model as KerasModel\n",
    "from tensorflow.keras.layers import Conv2D, BatchNormalization, Concatenate, MaxPool2D, Input, Lambda, Dense, GlobalAveragePooling2D"
   ]
  },
  {
   "cell_type": "code",
   "execution_count": 2,
   "metadata": {},
   "outputs": [],
   "source": [
    "def dilation_branch(x, f_in, f_out, r, name='unnammed_conv'):\n",
    "    '''\n",
    "    Combination of 1x1 conv compression and 3x3 dilated conv expansion.\n",
    "    '''\n",
    "    x = Conv2D(f_in, (1,1), activation='relu', name=name+'_1x1_'+str(r))(x)\n",
    "\n",
    "    #conv_init = ConvolutionAware()\n",
    "    x = Conv2D(f_out, (3,3), padding='same', dilation_rate=(r,r), activation='relu', #kernel_initializer=conv_init,\n",
    "               name=name+'_dilate_'+str(r))(x)\n",
    "\n",
    "    return x\n",
    "\n",
    "def dilation_block(x,\n",
    "                   branches,\n",
    "                   in_filters,\n",
    "                   out_filters,\n",
    "                   pool_size=None,\n",
    "                   name='block'):\n",
    "    '''Block with branches defined by dilation rates of `branches`.\n",
    "\n",
    "    Parameters\n",
    "    ----------\n",
    "    x : Tensor, BxHxWxC\n",
    "        Input Tensor\n",
    "    branches : iterable(int)\n",
    "        Each item defines a branch with dilation_rate=item\n",
    "    in_filters : iterable or int\n",
    "        Output filters for 1x1 reduction, per branch.\n",
    "        If iterable, must have len == len(branches). If int, assumed all branches the same.\n",
    "    out_filters : iter\n",
    "        Output filters for 3x3 dilated conv, per branch.\n",
    "        If iterable, must have len == len(branches). If int, assumed all branches the same.\n",
    "    pool_size : tuple(int), or `None`\n",
    "        If not `None`, passed to MaxPool2D on block output.\n",
    "    name : str, optional\n",
    "        Base name for block/branch layer names\n",
    "\n",
    "    Returns\n",
    "    -------\n",
    "    Output of passing `x` through the constructed block.\n",
    "    '''\n",
    "\n",
    "    args = [branches, in_filters, out_filters]\n",
    "    if all([hasattr(f, '__iter__') for f in args]):\n",
    "        print([lambda f: hasattr(f, '__iter__') for f in args])\n",
    "        assert len(set([len(x) for x in args])) == 1, \\\n",
    "            'if iterables, in_filters & out_filters must have same len as branches'\n",
    "    elif isinstance(in_filters, int) and isinstance(out_filters, int):\n",
    "        # if both ints\n",
    "        in_filters = [in_filters] * len(branches)\n",
    "        out_filters = [out_filters] * len(branches)\n",
    "    else:\n",
    "        raise ValueError('in_filters & out_filters must be both `iterable`, or both `int`')\n",
    "\n",
    "    branch_outputs = []\n",
    "    for rate, f_in, f_out in zip(branches, in_filters, out_filters):\n",
    "        branch = dilation_branch(x, f_in, f_out, rate, name=name)\n",
    "        branch_outputs.append(branch)\n",
    "    #block_output = Concatenate()(branch_outputs)\n",
    "\n",
    "    if pool_size is not None:\n",
    "        branch_outputs = [MaxPool2D(pool_size=pool_size)(branch) for branch in branch_outputs]\n",
    "    \n",
    "    block_output = Lambda(lambda x: tf.stack(x, axis=1))(branch_outputs)\n",
    "\n",
    "    return block_output"
   ]
  },
  {
   "cell_type": "code",
   "execution_count": 3,
   "metadata": {},
   "outputs": [
    {
     "name": "stdout",
     "output_type": "stream",
     "text": [
      "__________________________________________________________________________________________________\n",
      "Layer (type)                    Output Shape         Param #     Connected to                     \n",
      "==================================================================================================\n",
      "input_1 (InputLayer)            (None, 224, 224, 3)  0                                            \n",
      "__________________________________________________________________________________________________\n",
      "entry_conv (Conv2D)             (None, 224, 224, 64) 1792        input_1[0][0]                    \n",
      "__________________________________________________________________________________________________\n",
      "block_1x1_1 (Conv2D)            (None, 224, 224, 32) 2080        entry_conv[0][0]                 \n",
      "__________________________________________________________________________________________________\n",
      "block_1x1_2 (Conv2D)            (None, 224, 224, 32) 2080        entry_conv[0][0]                 \n",
      "__________________________________________________________________________________________________\n",
      "block_1x1_3 (Conv2D)            (None, 224, 224, 32) 2080        entry_conv[0][0]                 \n",
      "__________________________________________________________________________________________________\n",
      "block_dilate_1 (Conv2D)         (None, 224, 224, 128 36992       block_1x1_1[0][0]                \n",
      "__________________________________________________________________________________________________\n",
      "block_dilate_2 (Conv2D)         (None, 224, 224, 128 36992       block_1x1_2[0][0]                \n",
      "__________________________________________________________________________________________________\n",
      "block_dilate_3 (Conv2D)         (None, 224, 224, 128 36992       block_1x1_3[0][0]                \n",
      "__________________________________________________________________________________________________\n",
      "max_pooling2d (MaxPooling2D)    (None, 112, 112, 128 0           block_dilate_1[0][0]             \n",
      "__________________________________________________________________________________________________\n",
      "max_pooling2d_1 (MaxPooling2D)  (None, 112, 112, 128 0           block_dilate_2[0][0]             \n",
      "__________________________________________________________________________________________________\n",
      "max_pooling2d_2 (MaxPooling2D)  (None, 112, 112, 128 0           block_dilate_3[0][0]             \n",
      "__________________________________________________________________________________________________\n",
      "lambda (Lambda)                 (None, 3, 112, 112,  0           max_pooling2d[0][0]              \n",
      "                                                                 max_pooling2d_1[0][0]            \n",
      "                                                                 max_pooling2d_2[0][0]            \n",
      "__________________________________________________________________________________________________\n",
      "darts_edge (DARTSEdge)          (None, 112, 112, 128 3           lambda[0][0]                     \n",
      "__________________________________________________________________________________________________\n",
      "block2_1x1_1 (Conv2D)           (None, 112, 112, 32) 4128        darts_edge[0][0]                 \n",
      "__________________________________________________________________________________________________\n",
      "block2_1x1_2 (Conv2D)           (None, 112, 112, 32) 4128        darts_edge[0][0]                 \n",
      "__________________________________________________________________________________________________\n",
      "block2_1x1_3 (Conv2D)           (None, 112, 112, 32) 4128        darts_edge[0][0]                 \n",
      "__________________________________________________________________________________________________\n",
      "block2_dilate_1 (Conv2D)        (None, 112, 112, 128 36992       block2_1x1_1[0][0]               \n",
      "__________________________________________________________________________________________________\n",
      "block2_dilate_2 (Conv2D)        (None, 112, 112, 128 36992       block2_1x1_2[0][0]               \n",
      "__________________________________________________________________________________________________\n",
      "block2_dilate_3 (Conv2D)        (None, 112, 112, 128 36992       block2_1x1_3[0][0]               \n",
      "__________________________________________________________________________________________________\n",
      "max_pooling2d_3 (MaxPooling2D)  (None, 56, 56, 128)  0           block2_dilate_1[0][0]            \n",
      "__________________________________________________________________________________________________\n",
      "max_pooling2d_4 (MaxPooling2D)  (None, 56, 56, 128)  0           block2_dilate_2[0][0]            \n",
      "__________________________________________________________________________________________________\n",
      "max_pooling2d_5 (MaxPooling2D)  (None, 56, 56, 128)  0           block2_dilate_3[0][0]            \n",
      "__________________________________________________________________________________________________\n",
      "lambda_1 (Lambda)               (None, 3, 56, 56, 12 0           max_pooling2d_3[0][0]            \n",
      "                                                                 max_pooling2d_4[0][0]            \n",
      "                                                                 max_pooling2d_5[0][0]            \n",
      "__________________________________________________________________________________________________\n",
      "darts_edge_1 (DARTSEdge)        (None, 56, 56, 128)  3           lambda_1[0][0]                   \n",
      "__________________________________________________________________________________________________\n",
      "global_average_pooling2d (Globa (None, 128)          0           darts_edge_1[0][0]               \n",
      "__________________________________________________________________________________________________\n",
      "dense (Dense)                   (None, 47)           6063        global_average_pooling2d[0][0]   \n",
      "==================================================================================================\n",
      "Total params: 248,437\n",
      "Trainable params: 248,437\n",
      "Non-trainable params: 0\n",
      "__________________________________________________________________________________________________\n"
     ]
    }
   ],
   "source": [
    "input_image = Input(shape=(224, 224, 3))\n",
    "\n",
    "x = Conv2D(64, (3,3), padding='same', activation='relu', name='entry_conv')(input_image)\n",
    "\n",
    "x = dilation_block(x, [1,2,3], 32, 128, pool_size=2)\n",
    "\n",
    "x = DARTSEdge()(x)\n",
    "\n",
    "x = dilation_block(x, [1,2,3], 32, 128, pool_size=2, name='block2')\n",
    "\n",
    "x = DARTSEdge()(x)\n",
    "\n",
    "x = GlobalAveragePooling2D()(x)\n",
    "\n",
    "preds = Dense(47, activation='softmax')(x)\n",
    "\n",
    "model = KerasModel(inputs=input_image, outputs=preds)\n",
    "\n",
    "model.summary()"
   ]
  },
  {
   "cell_type": "code",
   "execution_count": 4,
   "metadata": {},
   "outputs": [
    {
     "data": {
      "text/plain": [
       "array([1., 1., 1.], dtype=float32)"
      ]
     },
     "execution_count": 4,
     "metadata": {},
     "output_type": "execute_result"
    }
   ],
   "source": [
    "model.layers[-3].get_weights()[0].squeeze()"
   ]
  },
  {
   "cell_type": "code",
   "execution_count": 5,
   "metadata": {},
   "outputs": [],
   "source": [
    "from texture.datasets import DTDDataset"
   ]
  },
  {
   "cell_type": "code",
   "execution_count": 6,
   "metadata": {},
   "outputs": [
    {
     "name": "stderr",
     "output_type": "stream",
     "text": [
      "/home/administrator/anaconda3/envs/core-dev/lib/python3.6/site-packages/skimage/transform/_warps.py:110: UserWarning: Anti-aliasing will be enabled by default in skimage 0.15 to avoid aliasing artifacts when down-sampling images.\n",
      "  warn(\"Anti-aliasing will be enabled by default in skimage 0.15 to \"\n"
     ]
    }
   ],
   "source": [
    "dtd = DTDDataset('/home/administrator/Dropbox/benchmark/dtd')\n",
    "dtd.load_or_generate_data()"
   ]
  },
  {
   "cell_type": "code",
   "execution_count": 7,
   "metadata": {},
   "outputs": [],
   "source": [
    "from texture.datasets import DatasetSequence\n",
    "\n",
    "trainseq = DatasetSequence(dtd.X_train, dtd.y_train, 12)\n",
    "testseq = DatasetSequence(dtd.X_train, dtd.y_train, 12)\n",
    "\n",
    "model.compile(loss='categorical_crossentropy', optimizer=tf.keras.optimizers.Adam(), metrics=['accuracy'])"
   ]
  },
  {
   "cell_type": "code",
   "execution_count": null,
   "metadata": {},
   "outputs": [
    {
     "name": "stdout",
     "output_type": "stream",
     "text": [
      "Epoch 1/10\n"
     ]
    }
   ],
   "source": [
    "hist = model.fit_generator(\n",
    "    trainseq,\n",
    "    epochs=10,\n",
    "    validation_data=testseq,\n",
    "    shuffle=False\n",
    ")"
   ]
  },
  {
   "cell_type": "code",
   "execution_count": null,
   "metadata": {},
   "outputs": [],
   "source": []
  }
 ],
 "metadata": {
  "kernelspec": {
   "display_name": "Python 3",
   "language": "python",
   "name": "python3"
  },
  "language_info": {
   "codemirror_mode": {
    "name": "ipython",
    "version": 3
   },
   "file_extension": ".py",
   "mimetype": "text/x-python",
   "name": "python",
   "nbconvert_exporter": "python",
   "pygments_lexer": "ipython3",
   "version": "3.6.5"
  }
 },
 "nbformat": 4,
 "nbformat_minor": 2
}
